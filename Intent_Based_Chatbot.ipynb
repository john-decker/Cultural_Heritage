{
  "nbformat": 4,
  "nbformat_minor": 0,
  "metadata": {
    "colab": {
      "provenance": [],
      "authorship_tag": "ABX9TyM0Jr+I2pd+8hOidDZTkXof",
      "include_colab_link": true
    },
    "kernelspec": {
      "name": "python3",
      "display_name": "Python 3"
    },
    "language_info": {
      "name": "python"
    }
  },
  "cells": [
    {
      "cell_type": "markdown",
      "metadata": {
        "id": "view-in-github",
        "colab_type": "text"
      },
      "source": [
        "<a href=\"https://colab.research.google.com/github/john-decker/Cultural_Heritage/blob/main/Intent_Based_Chatbot.ipynb\" target=\"_parent\"><img src=\"https://colab.research.google.com/assets/colab-badge.svg\" alt=\"Open In Colab\"/></a>"
      ]
    },
    {
      "cell_type": "code",
      "execution_count": null,
      "metadata": {
        "colab": {
          "base_uri": "https://localhost:8080/"
        },
        "id": "EF0jGmWVE06c",
        "outputId": "246681fa-5190-417e-b8d7-948bde9fd6d9"
      },
      "outputs": [
        {
          "output_type": "stream",
          "name": "stderr",
          "text": [
            "[nltk_data] Downloading package punkt to /root/nltk_data...\n",
            "[nltk_data]   Unzipping tokenizers/punkt.zip.\n",
            "[nltk_data] Downloading package wordnet to /root/nltk_data...\n"
          ]
        }
      ],
      "source": [
        "'''Based on the tutorial at https://data-flair.training/blogs/python-chatbot-project/\n",
        "I have updated the code to reflect changes in several libraries and to replace and\n",
        "refactor depricated expressions. I have unpacked various areas of the code to make\n",
        "it easier for beginners to read and understand. In addition, I have used best practices\n",
        "by splitting the data into training and testing data and adjusting the model to use\n",
        "this split to properly validate -- the original tutorial did not do this (though it\n",
        "still obtained a good working outcome).\n",
        "'''\n",
        "\n",
        "#import libraries needed for NLP work\n",
        "import nltk\n",
        "nltk.download('punkt') #specifically required to tokenize words\n",
        "nltk.download('wordnet') #specifically required to lemmatize properly\n",
        "from nltk.stem import WordNetLemmatizer\n",
        "import json\n",
        "import pickle\n",
        "\n",
        "#import libraries needed to train a model\n",
        "import numpy as np\n",
        "from keras.models import Sequential\n",
        "from keras.layers import Dense, Activation, Dropout\n",
        "from keras.optimizers import SGD\n",
        "\n",
        "#use random for shuffling data and returning responses\n",
        "import random\n",
        "\n",
        "#initialize lemmatizer and necessary lists\n",
        "lemmatizer = WordNetLemmatizer()\n",
        "words = []\n",
        "classes = []\n",
        "documents = []\n",
        "ignore_words = ['?', ',', '!']"
      ]
    },
    {
      "cell_type": "code",
      "source": [
        "#open the intents json file to use as labeled training data\n",
        "data_path = \"/content/intents.json\"\n",
        "with open(data_path, 'r') as data_file:\n",
        "  data = data_file.read()\n",
        "\n",
        "intents = json.loads(data)\n",
        "print('data loaded')"
      ],
      "metadata": {
        "id": "-idGftNnGYze",
        "colab": {
          "base_uri": "https://localhost:8080/"
        },
        "outputId": "aff473d8-1e5d-40e8-83f8-351cbb0a8cbb"
      },
      "execution_count": null,
      "outputs": [
        {
          "output_type": "stream",
          "name": "stdout",
          "text": [
            "data loaded\n"
          ]
        }
      ]
    },
    {
      "cell_type": "code",
      "source": [
        "#iterate over json document to tokenize patterns and isolate labels (tags)\n",
        "for intent in intents['intents']:\n",
        "  for pattern in intent['patterns']:\n",
        "    #tokenize each pattern sentence and add to the words list\n",
        "    item = nltk.word_tokenize(pattern)\n",
        "    words.extend(item)\n",
        "    #associate the tokenized words with the label (tag) that describes them and add them to documents\n",
        "    pairs = (item, intent['tag'])\n",
        "    documents.append(pairs) #note that this will contain a tuple of tokenized words (index 0) and the tag (index 1)\n",
        "\n",
        "    #add a label (tag) to the classes list if it isn't already there\n",
        "    if intent['tag'] not in classes:\n",
        "      classes.append(intent['tag'])"
      ],
      "metadata": {
        "collapsed": true,
        "id": "u11fksx_GxQa"
      },
      "execution_count": null,
      "outputs": []
    },
    {
      "cell_type": "code",
      "source": [
        "# create a list of lemmatized words using a list comprehension\n",
        "words = [lemmatizer.lemmatize(word.lower()) for word in words if word not in ignore_words]\n",
        "\n",
        "# de-duplicate words and order list\n",
        "sorted_words = sorted(list(set(words)))"
      ],
      "metadata": {
        "collapsed": true,
        "id": "K5v156S-KuqK"
      },
      "execution_count": null,
      "outputs": []
    },
    {
      "cell_type": "code",
      "source": [
        "#de-duplicate classes (tags) and order list\n",
        "sorted_classes = sorted(list(set(classes)))\n"
      ],
      "metadata": {
        "collapsed": true,
        "id": "3h0NdX5ZN9z0"
      },
      "execution_count": null,
      "outputs": []
    },
    {
      "cell_type": "code",
      "source": [
        "#check shape of data by outputting lengths\n",
        "print(f'{len(documents)} documents')\n",
        "print(f'{len(classes)} unique classes (tags)')\n",
        "print(f'{len(words)} unique lemmatized words')"
      ],
      "metadata": {
        "colab": {
          "base_uri": "https://localhost:8080/"
        },
        "id": "5fxsHt5tOEzU",
        "outputId": "647cf482-4214-40a5-cfba-1e1c46864978"
      },
      "execution_count": null,
      "outputs": [
        {
          "output_type": "stream",
          "name": "stdout",
          "text": [
            "47 documents\n",
            "9 unique classes (tags)\n",
            "185 unique lemmatized words\n"
          ]
        }
      ]
    },
    {
      "cell_type": "code",
      "source": [
        "#use pickle to serialize data as byte objects for later retrieval using the wb (write binary) mode\n",
        "pickle.dump(words, open('words.pkl', 'wb'))\n",
        "pickle.dump(classes, open('classes.pkl', 'wb'))"
      ],
      "metadata": {
        "id": "XvRsyEeOOmWL"
      },
      "execution_count": null,
      "outputs": []
    },
    {
      "cell_type": "code",
      "source": [
        "#create training data for our model\n",
        "training = []\n",
        "\n",
        "#create an array of zeroes for later one-hot encoding\n",
        "output_empty = [0] * len(classes)\n",
        "\n",
        "#create a bag-of-words for each sentence in documents\n",
        "for entry in documents:\n",
        "  # initialize empty list for bag-of-words\n",
        "  bag = []\n",
        "  #tokenized words from each pattern, use 0\n",
        "  doc_words = entry[0] #remember, the words are at index 0 in the tuple in docs\n",
        "  #lemmatize each word to put it into its base form\n",
        "  pattern_words = [lemmatizer.lemmatize(word.lower()) for word in doc_words]\n",
        "  #create a bag-of-words using one-hot encoding\n",
        "  for item in words:\n",
        "    if item in pattern_words:\n",
        "      bag.append(1)\n",
        "    else:\n",
        "      bag.append(0)\n",
        "  #encode tags using one-hot encoding\n",
        "  output_row = list(output_empty) #need to use list to create iterator to unpack output_empty\n",
        "  output_row[classes.index(entry[1])] = 1 #places a 1 where the tag occurs\n",
        "\n",
        "  paired_data = (bag, output_row) #is a tuple with the bow at index 0 and the tags at index 1\n",
        "  training.append(paired_data)\n"
      ],
      "metadata": {
        "collapsed": true,
        "id": "Gn7dJ-2hR3CH"
      },
      "execution_count": null,
      "outputs": []
    },
    {
      "cell_type": "code",
      "source": [
        "print(len(training)) #should equal the number of documents"
      ],
      "metadata": {
        "colab": {
          "base_uri": "https://localhost:8080/"
        },
        "id": "OM29EqREWrRx",
        "outputId": "0af1f753-aa09-4c0d-d005-7756bb9b3148"
      },
      "execution_count": null,
      "outputs": [
        {
          "output_type": "stream",
          "name": "stdout",
          "text": [
            "47\n"
          ]
        }
      ]
    },
    {
      "cell_type": "code",
      "source": [
        "#train the data\n",
        "random.shuffle(training)\n",
        "#initialize lists to receive word and tag portions\n",
        "word_vecs = []\n",
        "tag_vecs = []\n",
        "\n",
        "for item in training:\n",
        "  word_vecs.append(item[0])\n",
        "  tag_vecs.append(item[1])\n",
        "\n",
        "#set percentage of data to use as training\n",
        "train_percent = 0.8\n",
        "\n",
        "#helper function to calculate training size for vectors\n",
        "def train_size(vec, percentage):\n",
        "  return int(len(vec) * percentage) #note, cast to int to avoid float outcomes\n",
        "\n",
        "word_train = train_size(word_vecs, train_percent)\n",
        "tag_train = train_size(tag_vecs, train_percent)\n",
        "\n",
        "\n",
        "#create training set using 80% of data and test set using 20% of data\n",
        "#convert to np arrays\n",
        "train_x = np.array(word_vecs[:word_train])\n",
        "train_y = np.array(tag_vecs[:tag_train])\n",
        "\n",
        "X_test = np.array(word_vecs[word_train:])\n",
        "y_test = np.array(tag_vecs[tag_train:])\n",
        "\n",
        "print(\"Training Data Created\")"
      ],
      "metadata": {
        "collapsed": true,
        "id": "77-3CC-3W8eN",
        "colab": {
          "base_uri": "https://localhost:8080/"
        },
        "outputId": "c743f86f-2bc9-4f8b-b557-ca2e0c1586fa"
      },
      "execution_count": null,
      "outputs": [
        {
          "output_type": "stream",
          "name": "stdout",
          "text": [
            "Training Data Created\n"
          ]
        }
      ]
    },
    {
      "cell_type": "code",
      "source": [
        "#create model using keras\n",
        "model = Sequential()\n",
        "#create first dense layer\n",
        "model.add(Dense(128, input_shape=(len(train_x[0]),), activation='relu'))\n",
        "#use drop out to avoid overfitting\n",
        "model.add(Dropout(0.5))\n",
        "#create second layer, with reduced dimensions\n",
        "model.add(Dense(64, activation='relu'))\n",
        "#use dropout again\n",
        "model.add(Dropout(0.5))\n",
        "#create output layer of network\n",
        "model.add(Dense(len(train_y[0]), activation='softmax'))\n",
        "\n",
        "#initialize the optimizer function (in this case, Stochastic Gradient Descent)\n",
        "sgd = SGD(learning_rate=0.01, weight_decay=1e-6, momentum=0.9, nesterov=True)\n",
        "#set the loss function and specify which metric is most important\n",
        "model.compile(loss='categorical_crossentropy', optimizer=sgd, metrics=['accuracy'])\n",
        "\n",
        "#train the model on the training data and use the testing data to validate\n",
        "hist=model.fit(train_x, train_y, epochs=200, batch_size=5, verbose=1, validation_data=(X_test, y_test))\n",
        "\n",
        "model.save('chatbot_model.v1', hist)\n",
        "\n",
        "print(\"Model Created\")\n"
      ],
      "metadata": {
        "colab": {
          "base_uri": "https://localhost:8080/"
        },
        "collapsed": true,
        "id": "THOu_lCmvgJd",
        "outputId": "85097949-c676-4100-da60-e61c8498ae25"
      },
      "execution_count": null,
      "outputs": [
        {
          "output_type": "stream",
          "name": "stdout",
          "text": [
            "Epoch 1/200\n",
            "8/8 [==============================] - 2s 65ms/step - loss: 2.2716 - accuracy: 0.1351 - val_loss: 2.0647 - val_accuracy: 0.2000\n",
            "Epoch 2/200\n",
            "8/8 [==============================] - 0s 14ms/step - loss: 2.0789 - accuracy: 0.2162 - val_loss: 1.9353 - val_accuracy: 0.3000\n",
            "Epoch 3/200\n",
            "8/8 [==============================] - 0s 13ms/step - loss: 1.9531 - accuracy: 0.3514 - val_loss: 1.7719 - val_accuracy: 0.6000\n",
            "Epoch 4/200\n",
            "8/8 [==============================] - 0s 14ms/step - loss: 1.6984 - accuracy: 0.4324 - val_loss: 1.6166 - val_accuracy: 0.6000\n",
            "Epoch 5/200\n",
            "8/8 [==============================] - 0s 13ms/step - loss: 1.5335 - accuracy: 0.5135 - val_loss: 1.4378 - val_accuracy: 0.6000\n",
            "Epoch 6/200\n",
            "8/8 [==============================] - 0s 13ms/step - loss: 1.3482 - accuracy: 0.5405 - val_loss: 1.3132 - val_accuracy: 0.5000\n",
            "Epoch 7/200\n",
            "8/8 [==============================] - 0s 12ms/step - loss: 1.2239 - accuracy: 0.6486 - val_loss: 1.1513 - val_accuracy: 0.7000\n",
            "Epoch 8/200\n",
            "8/8 [==============================] - 0s 16ms/step - loss: 1.1308 - accuracy: 0.6757 - val_loss: 1.0576 - val_accuracy: 0.7000\n",
            "Epoch 9/200\n",
            "8/8 [==============================] - 0s 13ms/step - loss: 1.0743 - accuracy: 0.6757 - val_loss: 1.1026 - val_accuracy: 0.6000\n",
            "Epoch 10/200\n",
            "8/8 [==============================] - 0s 15ms/step - loss: 0.9973 - accuracy: 0.6486 - val_loss: 0.9581 - val_accuracy: 0.7000\n",
            "Epoch 11/200\n",
            "8/8 [==============================] - 0s 13ms/step - loss: 0.7232 - accuracy: 0.8108 - val_loss: 0.8437 - val_accuracy: 0.7000\n",
            "Epoch 12/200\n",
            "8/8 [==============================] - 0s 12ms/step - loss: 1.0795 - accuracy: 0.6757 - val_loss: 0.8392 - val_accuracy: 0.7000\n",
            "Epoch 13/200\n",
            "8/8 [==============================] - 0s 13ms/step - loss: 0.6145 - accuracy: 0.7838 - val_loss: 0.9290 - val_accuracy: 0.7000\n",
            "Epoch 14/200\n",
            "8/8 [==============================] - 0s 7ms/step - loss: 1.0144 - accuracy: 0.7838 - val_loss: 0.7570 - val_accuracy: 0.7000\n",
            "Epoch 15/200\n",
            "8/8 [==============================] - 0s 8ms/step - loss: 0.8107 - accuracy: 0.8108 - val_loss: 0.7044 - val_accuracy: 0.7000\n",
            "Epoch 16/200\n",
            "8/8 [==============================] - 0s 9ms/step - loss: 0.7402 - accuracy: 0.7838 - val_loss: 0.6898 - val_accuracy: 0.8000\n",
            "Epoch 17/200\n",
            "8/8 [==============================] - 0s 8ms/step - loss: 0.5898 - accuracy: 0.8108 - val_loss: 0.6053 - val_accuracy: 0.8000\n",
            "Epoch 18/200\n",
            "8/8 [==============================] - 0s 12ms/step - loss: 0.5446 - accuracy: 0.8378 - val_loss: 0.5727 - val_accuracy: 0.7000\n",
            "Epoch 19/200\n",
            "8/8 [==============================] - 0s 10ms/step - loss: 0.5418 - accuracy: 0.8378 - val_loss: 0.5350 - val_accuracy: 0.8000\n",
            "Epoch 20/200\n",
            "8/8 [==============================] - 0s 12ms/step - loss: 0.4923 - accuracy: 0.8649 - val_loss: 0.5157 - val_accuracy: 0.8000\n",
            "Epoch 21/200\n",
            "8/8 [==============================] - 0s 10ms/step - loss: 0.4889 - accuracy: 0.8919 - val_loss: 0.5364 - val_accuracy: 0.8000\n",
            "Epoch 22/200\n",
            "8/8 [==============================] - 0s 11ms/step - loss: 0.4783 - accuracy: 0.8649 - val_loss: 0.5229 - val_accuracy: 0.8000\n",
            "Epoch 23/200\n",
            "8/8 [==============================] - 0s 10ms/step - loss: 0.4256 - accuracy: 0.8649 - val_loss: 0.4710 - val_accuracy: 0.8000\n",
            "Epoch 24/200\n",
            "8/8 [==============================] - 0s 10ms/step - loss: 0.4536 - accuracy: 0.7838 - val_loss: 0.5080 - val_accuracy: 0.8000\n",
            "Epoch 25/200\n",
            "8/8 [==============================] - 0s 10ms/step - loss: 0.2651 - accuracy: 0.9730 - val_loss: 0.5442 - val_accuracy: 0.7000\n",
            "Epoch 26/200\n",
            "8/8 [==============================] - 0s 10ms/step - loss: 0.2593 - accuracy: 0.9459 - val_loss: 0.5378 - val_accuracy: 0.7000\n",
            "Epoch 27/200\n",
            "8/8 [==============================] - 0s 7ms/step - loss: 0.2442 - accuracy: 0.9459 - val_loss: 0.5074 - val_accuracy: 0.7000\n",
            "Epoch 28/200\n",
            "8/8 [==============================] - 0s 8ms/step - loss: 0.2380 - accuracy: 0.9459 - val_loss: 0.4526 - val_accuracy: 0.8000\n",
            "Epoch 29/200\n",
            "8/8 [==============================] - 0s 10ms/step - loss: 0.2624 - accuracy: 0.9189 - val_loss: 0.4232 - val_accuracy: 0.8000\n",
            "Epoch 30/200\n",
            "8/8 [==============================] - 0s 9ms/step - loss: 0.3040 - accuracy: 0.9459 - val_loss: 0.4411 - val_accuracy: 0.7000\n",
            "Epoch 31/200\n",
            "8/8 [==============================] - 0s 9ms/step - loss: 0.3007 - accuracy: 0.8919 - val_loss: 0.4084 - val_accuracy: 0.8000\n",
            "Epoch 32/200\n",
            "8/8 [==============================] - 0s 10ms/step - loss: 0.1841 - accuracy: 0.9459 - val_loss: 0.3640 - val_accuracy: 0.8000\n",
            "Epoch 33/200\n",
            "8/8 [==============================] - 0s 10ms/step - loss: 0.2156 - accuracy: 0.9459 - val_loss: 0.4110 - val_accuracy: 0.7000\n",
            "Epoch 34/200\n",
            "8/8 [==============================] - 0s 12ms/step - loss: 0.2232 - accuracy: 0.9189 - val_loss: 0.5262 - val_accuracy: 0.7000\n",
            "Epoch 35/200\n",
            "8/8 [==============================] - 0s 11ms/step - loss: 0.4147 - accuracy: 0.9459 - val_loss: 0.5585 - val_accuracy: 0.7000\n",
            "Epoch 36/200\n",
            "8/8 [==============================] - 0s 9ms/step - loss: 0.4151 - accuracy: 0.8649 - val_loss: 0.4981 - val_accuracy: 0.7000\n",
            "Epoch 37/200\n",
            "8/8 [==============================] - 0s 8ms/step - loss: 0.2863 - accuracy: 0.9189 - val_loss: 0.4061 - val_accuracy: 0.7000\n",
            "Epoch 38/200\n",
            "8/8 [==============================] - 0s 7ms/step - loss: 0.1708 - accuracy: 0.9730 - val_loss: 0.3788 - val_accuracy: 0.8000\n",
            "Epoch 39/200\n",
            "8/8 [==============================] - 0s 10ms/step - loss: 0.2603 - accuracy: 0.9459 - val_loss: 0.3734 - val_accuracy: 0.8000\n",
            "Epoch 40/200\n",
            "8/8 [==============================] - 0s 7ms/step - loss: 0.3185 - accuracy: 0.8919 - val_loss: 0.4203 - val_accuracy: 0.8000\n",
            "Epoch 41/200\n",
            "8/8 [==============================] - 0s 9ms/step - loss: 0.1011 - accuracy: 0.9730 - val_loss: 0.4087 - val_accuracy: 0.8000\n",
            "Epoch 42/200\n",
            "8/8 [==============================] - 0s 8ms/step - loss: 0.1653 - accuracy: 0.9730 - val_loss: 0.4059 - val_accuracy: 0.8000\n",
            "Epoch 43/200\n",
            "8/8 [==============================] - 0s 9ms/step - loss: 0.3217 - accuracy: 0.8919 - val_loss: 0.3856 - val_accuracy: 0.7000\n",
            "Epoch 44/200\n",
            "8/8 [==============================] - 0s 8ms/step - loss: 0.1040 - accuracy: 0.9459 - val_loss: 0.3643 - val_accuracy: 0.7000\n",
            "Epoch 45/200\n",
            "8/8 [==============================] - 0s 8ms/step - loss: 0.5426 - accuracy: 0.8919 - val_loss: 0.3748 - val_accuracy: 0.7000\n",
            "Epoch 46/200\n",
            "8/8 [==============================] - 0s 9ms/step - loss: 0.2759 - accuracy: 0.9459 - val_loss: 0.4888 - val_accuracy: 0.6000\n",
            "Epoch 47/200\n",
            "8/8 [==============================] - 0s 11ms/step - loss: 0.0852 - accuracy: 1.0000 - val_loss: 0.5634 - val_accuracy: 0.6000\n",
            "Epoch 48/200\n",
            "8/8 [==============================] - 0s 12ms/step - loss: 0.3510 - accuracy: 0.8919 - val_loss: 0.5586 - val_accuracy: 0.7000\n",
            "Epoch 49/200\n",
            "8/8 [==============================] - 0s 10ms/step - loss: 0.2359 - accuracy: 0.9459 - val_loss: 0.6275 - val_accuracy: 0.7000\n",
            "Epoch 50/200\n",
            "8/8 [==============================] - 0s 7ms/step - loss: 0.1927 - accuracy: 0.9459 - val_loss: 0.7268 - val_accuracy: 0.7000\n",
            "Epoch 51/200\n",
            "8/8 [==============================] - 0s 9ms/step - loss: 0.1729 - accuracy: 0.9730 - val_loss: 0.7930 - val_accuracy: 0.7000\n",
            "Epoch 52/200\n",
            "8/8 [==============================] - 0s 10ms/step - loss: 0.0728 - accuracy: 0.9730 - val_loss: 0.8243 - val_accuracy: 0.7000\n",
            "Epoch 53/200\n",
            "8/8 [==============================] - 0s 8ms/step - loss: 0.2661 - accuracy: 0.8649 - val_loss: 0.9365 - val_accuracy: 0.7000\n",
            "Epoch 54/200\n",
            "8/8 [==============================] - 0s 10ms/step - loss: 0.1014 - accuracy: 1.0000 - val_loss: 1.0068 - val_accuracy: 0.6000\n",
            "Epoch 55/200\n",
            "8/8 [==============================] - 0s 9ms/step - loss: 0.0581 - accuracy: 1.0000 - val_loss: 1.0604 - val_accuracy: 0.6000\n",
            "Epoch 56/200\n",
            "8/8 [==============================] - 0s 10ms/step - loss: 0.1116 - accuracy: 0.9730 - val_loss: 1.0839 - val_accuracy: 0.6000\n",
            "Epoch 57/200\n",
            "8/8 [==============================] - 0s 8ms/step - loss: 0.1193 - accuracy: 0.9459 - val_loss: 1.1384 - val_accuracy: 0.6000\n",
            "Epoch 58/200\n",
            "8/8 [==============================] - 0s 11ms/step - loss: 0.0943 - accuracy: 0.9730 - val_loss: 1.2450 - val_accuracy: 0.6000\n",
            "Epoch 59/200\n",
            "8/8 [==============================] - 0s 12ms/step - loss: 0.1421 - accuracy: 0.9730 - val_loss: 1.2779 - val_accuracy: 0.6000\n",
            "Epoch 60/200\n",
            "8/8 [==============================] - 0s 11ms/step - loss: 0.0567 - accuracy: 1.0000 - val_loss: 1.1343 - val_accuracy: 0.6000\n",
            "Epoch 61/200\n",
            "8/8 [==============================] - 0s 9ms/step - loss: 0.0656 - accuracy: 0.9730 - val_loss: 0.9967 - val_accuracy: 0.6000\n",
            "Epoch 62/200\n",
            "8/8 [==============================] - 0s 10ms/step - loss: 0.1159 - accuracy: 0.9730 - val_loss: 0.8427 - val_accuracy: 0.6000\n",
            "Epoch 63/200\n",
            "8/8 [==============================] - 0s 7ms/step - loss: 0.1382 - accuracy: 0.9459 - val_loss: 0.7756 - val_accuracy: 0.7000\n",
            "Epoch 64/200\n",
            "8/8 [==============================] - 0s 9ms/step - loss: 0.0735 - accuracy: 1.0000 - val_loss: 0.7966 - val_accuracy: 0.7000\n",
            "Epoch 65/200\n",
            "8/8 [==============================] - 0s 8ms/step - loss: 0.1497 - accuracy: 0.9459 - val_loss: 0.7783 - val_accuracy: 0.7000\n",
            "Epoch 66/200\n",
            "8/8 [==============================] - 0s 13ms/step - loss: 0.1674 - accuracy: 0.9189 - val_loss: 0.5813 - val_accuracy: 0.7000\n",
            "Epoch 67/200\n",
            "8/8 [==============================] - 0s 7ms/step - loss: 0.1012 - accuracy: 0.9730 - val_loss: 0.5811 - val_accuracy: 0.6000\n",
            "Epoch 68/200\n",
            "8/8 [==============================] - 0s 9ms/step - loss: 0.1408 - accuracy: 0.9459 - val_loss: 0.5535 - val_accuracy: 0.7000\n",
            "Epoch 69/200\n",
            "8/8 [==============================] - 0s 10ms/step - loss: 0.1461 - accuracy: 0.9459 - val_loss: 0.4170 - val_accuracy: 0.7000\n",
            "Epoch 70/200\n",
            "8/8 [==============================] - 0s 10ms/step - loss: 0.1290 - accuracy: 0.9730 - val_loss: 0.4051 - val_accuracy: 0.7000\n",
            "Epoch 71/200\n",
            "8/8 [==============================] - 0s 12ms/step - loss: 0.1986 - accuracy: 0.9459 - val_loss: 0.4700 - val_accuracy: 0.7000\n",
            "Epoch 72/200\n",
            "8/8 [==============================] - 0s 11ms/step - loss: 0.1015 - accuracy: 0.9730 - val_loss: 0.6194 - val_accuracy: 0.7000\n",
            "Epoch 73/200\n",
            "8/8 [==============================] - 0s 11ms/step - loss: 0.1516 - accuracy: 0.9730 - val_loss: 0.8429 - val_accuracy: 0.7000\n",
            "Epoch 74/200\n",
            "8/8 [==============================] - 0s 7ms/step - loss: 0.0986 - accuracy: 0.9730 - val_loss: 0.7337 - val_accuracy: 0.7000\n",
            "Epoch 75/200\n",
            "8/8 [==============================] - 0s 10ms/step - loss: 0.1292 - accuracy: 0.9730 - val_loss: 0.6473 - val_accuracy: 0.7000\n",
            "Epoch 76/200\n",
            "8/8 [==============================] - 0s 10ms/step - loss: 0.2244 - accuracy: 0.8919 - val_loss: 0.5805 - val_accuracy: 0.7000\n",
            "Epoch 77/200\n",
            "8/8 [==============================] - 0s 7ms/step - loss: 0.0680 - accuracy: 1.0000 - val_loss: 0.5511 - val_accuracy: 0.7000\n",
            "Epoch 78/200\n",
            "8/8 [==============================] - 0s 8ms/step - loss: 0.0125 - accuracy: 1.0000 - val_loss: 0.5428 - val_accuracy: 0.7000\n",
            "Epoch 79/200\n",
            "8/8 [==============================] - 0s 8ms/step - loss: 0.0388 - accuracy: 1.0000 - val_loss: 0.5489 - val_accuracy: 0.7000\n",
            "Epoch 80/200\n",
            "8/8 [==============================] - 0s 8ms/step - loss: 0.0777 - accuracy: 1.0000 - val_loss: 0.5805 - val_accuracy: 0.7000\n",
            "Epoch 81/200\n",
            "8/8 [==============================] - 0s 9ms/step - loss: 0.1955 - accuracy: 0.9189 - val_loss: 0.5854 - val_accuracy: 0.7000\n",
            "Epoch 82/200\n",
            "8/8 [==============================] - 0s 7ms/step - loss: 0.0967 - accuracy: 1.0000 - val_loss: 0.5664 - val_accuracy: 0.7000\n",
            "Epoch 83/200\n",
            "8/8 [==============================] - 0s 10ms/step - loss: 0.0739 - accuracy: 0.9730 - val_loss: 0.5170 - val_accuracy: 0.7000\n",
            "Epoch 84/200\n",
            "8/8 [==============================] - 0s 11ms/step - loss: 0.0223 - accuracy: 1.0000 - val_loss: 0.4864 - val_accuracy: 0.7000\n",
            "Epoch 85/200\n",
            "8/8 [==============================] - 0s 12ms/step - loss: 0.0661 - accuracy: 0.9730 - val_loss: 0.4984 - val_accuracy: 0.7000\n",
            "Epoch 86/200\n",
            "8/8 [==============================] - 0s 10ms/step - loss: 0.2762 - accuracy: 0.9459 - val_loss: 0.5050 - val_accuracy: 0.7000\n",
            "Epoch 87/200\n",
            "8/8 [==============================] - 0s 11ms/step - loss: 0.0383 - accuracy: 0.9730 - val_loss: 0.4860 - val_accuracy: 0.7000\n",
            "Epoch 88/200\n",
            "8/8 [==============================] - 0s 9ms/step - loss: 0.0762 - accuracy: 0.9730 - val_loss: 0.5006 - val_accuracy: 0.7000\n",
            "Epoch 89/200\n",
            "8/8 [==============================] - 0s 7ms/step - loss: 0.0819 - accuracy: 0.9730 - val_loss: 0.4896 - val_accuracy: 0.7000\n",
            "Epoch 90/200\n",
            "8/8 [==============================] - 0s 29ms/step - loss: 0.0311 - accuracy: 1.0000 - val_loss: 0.4447 - val_accuracy: 0.8000\n",
            "Epoch 91/200\n",
            "8/8 [==============================] - 0s 56ms/step - loss: 0.1078 - accuracy: 0.9730 - val_loss: 0.3990 - val_accuracy: 0.8000\n",
            "Epoch 92/200\n",
            "8/8 [==============================] - 0s 33ms/step - loss: 0.0549 - accuracy: 1.0000 - val_loss: 0.3728 - val_accuracy: 0.8000\n",
            "Epoch 93/200\n",
            "8/8 [==============================] - 0s 13ms/step - loss: 0.0526 - accuracy: 1.0000 - val_loss: 0.3986 - val_accuracy: 0.7000\n",
            "Epoch 94/200\n",
            "8/8 [==============================] - 0s 17ms/step - loss: 0.0759 - accuracy: 0.9730 - val_loss: 0.5127 - val_accuracy: 0.7000\n",
            "Epoch 95/200\n",
            "8/8 [==============================] - 0s 9ms/step - loss: 0.0819 - accuracy: 0.9730 - val_loss: 0.5339 - val_accuracy: 0.7000\n",
            "Epoch 96/200\n",
            "8/8 [==============================] - 0s 8ms/step - loss: 0.0608 - accuracy: 0.9730 - val_loss: 0.5450 - val_accuracy: 0.7000\n",
            "Epoch 97/200\n",
            "8/8 [==============================] - 0s 8ms/step - loss: 0.1310 - accuracy: 0.9189 - val_loss: 0.5428 - val_accuracy: 0.7000\n",
            "Epoch 98/200\n",
            "8/8 [==============================] - 0s 9ms/step - loss: 0.0283 - accuracy: 1.0000 - val_loss: 0.5402 - val_accuracy: 0.7000\n",
            "Epoch 99/200\n",
            "8/8 [==============================] - 0s 8ms/step - loss: 0.0343 - accuracy: 1.0000 - val_loss: 0.5287 - val_accuracy: 0.7000\n",
            "Epoch 100/200\n",
            "8/8 [==============================] - 0s 10ms/step - loss: 0.0315 - accuracy: 1.0000 - val_loss: 0.4928 - val_accuracy: 0.7000\n",
            "Epoch 101/200\n",
            "8/8 [==============================] - 0s 10ms/step - loss: 0.0179 - accuracy: 1.0000 - val_loss: 0.4799 - val_accuracy: 0.7000\n",
            "Epoch 102/200\n",
            "8/8 [==============================] - 0s 7ms/step - loss: 0.0165 - accuracy: 1.0000 - val_loss: 0.4913 - val_accuracy: 0.7000\n",
            "Epoch 103/200\n",
            "8/8 [==============================] - 0s 8ms/step - loss: 0.0188 - accuracy: 1.0000 - val_loss: 0.4750 - val_accuracy: 0.7000\n",
            "Epoch 104/200\n",
            "8/8 [==============================] - 0s 9ms/step - loss: 0.0510 - accuracy: 0.9730 - val_loss: 0.4691 - val_accuracy: 0.7000\n",
            "Epoch 105/200\n",
            "8/8 [==============================] - 0s 10ms/step - loss: 0.0322 - accuracy: 1.0000 - val_loss: 0.4566 - val_accuracy: 0.7000\n",
            "Epoch 106/200\n",
            "8/8 [==============================] - 0s 10ms/step - loss: 0.0438 - accuracy: 1.0000 - val_loss: 0.4295 - val_accuracy: 0.7000\n",
            "Epoch 107/200\n",
            "8/8 [==============================] - 0s 9ms/step - loss: 0.0723 - accuracy: 0.9730 - val_loss: 0.4130 - val_accuracy: 0.7000\n",
            "Epoch 108/200\n",
            "8/8 [==============================] - 0s 7ms/step - loss: 0.1088 - accuracy: 0.9730 - val_loss: 0.4066 - val_accuracy: 0.7000\n",
            "Epoch 109/200\n",
            "8/8 [==============================] - 0s 12ms/step - loss: 0.0367 - accuracy: 1.0000 - val_loss: 0.4089 - val_accuracy: 0.7000\n",
            "Epoch 110/200\n",
            "8/8 [==============================] - 0s 10ms/step - loss: 0.0376 - accuracy: 1.0000 - val_loss: 0.3973 - val_accuracy: 0.7000\n",
            "Epoch 111/200\n",
            "8/8 [==============================] - 0s 8ms/step - loss: 0.0256 - accuracy: 1.0000 - val_loss: 0.3820 - val_accuracy: 0.7000\n",
            "Epoch 112/200\n",
            "8/8 [==============================] - 0s 9ms/step - loss: 0.0269 - accuracy: 1.0000 - val_loss: 0.3814 - val_accuracy: 0.7000\n",
            "Epoch 113/200\n",
            "8/8 [==============================] - 0s 10ms/step - loss: 0.0151 - accuracy: 1.0000 - val_loss: 0.3847 - val_accuracy: 0.7000\n",
            "Epoch 114/200\n",
            "8/8 [==============================] - 0s 9ms/step - loss: 0.0228 - accuracy: 1.0000 - val_loss: 0.3970 - val_accuracy: 0.7000\n",
            "Epoch 115/200\n",
            "8/8 [==============================] - 0s 10ms/step - loss: 0.0466 - accuracy: 0.9730 - val_loss: 0.4383 - val_accuracy: 0.7000\n",
            "Epoch 116/200\n",
            "8/8 [==============================] - 0s 9ms/step - loss: 0.0303 - accuracy: 1.0000 - val_loss: 0.4580 - val_accuracy: 0.7000\n",
            "Epoch 117/200\n",
            "8/8 [==============================] - 0s 8ms/step - loss: 0.0990 - accuracy: 0.9730 - val_loss: 0.4899 - val_accuracy: 0.7000\n",
            "Epoch 118/200\n",
            "8/8 [==============================] - 0s 7ms/step - loss: 0.0519 - accuracy: 0.9730 - val_loss: 0.4916 - val_accuracy: 0.7000\n",
            "Epoch 119/200\n",
            "8/8 [==============================] - 0s 9ms/step - loss: 0.0387 - accuracy: 1.0000 - val_loss: 0.4498 - val_accuracy: 0.7000\n",
            "Epoch 120/200\n",
            "8/8 [==============================] - 0s 7ms/step - loss: 0.0149 - accuracy: 1.0000 - val_loss: 0.4540 - val_accuracy: 0.7000\n",
            "Epoch 121/200\n",
            "8/8 [==============================] - 0s 10ms/step - loss: 0.0508 - accuracy: 0.9730 - val_loss: 0.4635 - val_accuracy: 0.7000\n",
            "Epoch 122/200\n",
            "8/8 [==============================] - 0s 10ms/step - loss: 0.0602 - accuracy: 1.0000 - val_loss: 0.5132 - val_accuracy: 0.7000\n",
            "Epoch 123/200\n",
            "8/8 [==============================] - 0s 8ms/step - loss: 0.0419 - accuracy: 1.0000 - val_loss: 0.5418 - val_accuracy: 0.7000\n",
            "Epoch 124/200\n",
            "8/8 [==============================] - 0s 10ms/step - loss: 0.0169 - accuracy: 1.0000 - val_loss: 0.5440 - val_accuracy: 0.7000\n",
            "Epoch 125/200\n",
            "8/8 [==============================] - 0s 7ms/step - loss: 0.0706 - accuracy: 0.9730 - val_loss: 0.5217 - val_accuracy: 0.7000\n",
            "Epoch 126/200\n",
            "8/8 [==============================] - 0s 10ms/step - loss: 0.0141 - accuracy: 1.0000 - val_loss: 0.5230 - val_accuracy: 0.7000\n",
            "Epoch 127/200\n",
            "8/8 [==============================] - 0s 9ms/step - loss: 0.0047 - accuracy: 1.0000 - val_loss: 0.5288 - val_accuracy: 0.7000\n",
            "Epoch 128/200\n",
            "8/8 [==============================] - 0s 11ms/step - loss: 0.0296 - accuracy: 1.0000 - val_loss: 0.5127 - val_accuracy: 0.7000\n",
            "Epoch 129/200\n",
            "8/8 [==============================] - 0s 8ms/step - loss: 0.0179 - accuracy: 1.0000 - val_loss: 0.5061 - val_accuracy: 0.7000\n",
            "Epoch 130/200\n",
            "8/8 [==============================] - 0s 10ms/step - loss: 0.0258 - accuracy: 0.9730 - val_loss: 0.5048 - val_accuracy: 0.7000\n",
            "Epoch 131/200\n",
            "8/8 [==============================] - 0s 11ms/step - loss: 0.0504 - accuracy: 0.9730 - val_loss: 0.5112 - val_accuracy: 0.7000\n",
            "Epoch 132/200\n",
            "8/8 [==============================] - 0s 10ms/step - loss: 0.0591 - accuracy: 0.9730 - val_loss: 0.5310 - val_accuracy: 0.7000\n",
            "Epoch 133/200\n",
            "8/8 [==============================] - 0s 12ms/step - loss: 0.0192 - accuracy: 1.0000 - val_loss: 0.5488 - val_accuracy: 0.7000\n",
            "Epoch 134/200\n",
            "8/8 [==============================] - 0s 12ms/step - loss: 0.0333 - accuracy: 1.0000 - val_loss: 0.5452 - val_accuracy: 0.7000\n",
            "Epoch 135/200\n",
            "8/8 [==============================] - 0s 12ms/step - loss: 0.0560 - accuracy: 0.9730 - val_loss: 0.5559 - val_accuracy: 0.7000\n",
            "Epoch 136/200\n",
            "8/8 [==============================] - 0s 13ms/step - loss: 0.0255 - accuracy: 1.0000 - val_loss: 0.5975 - val_accuracy: 0.7000\n",
            "Epoch 137/200\n",
            "8/8 [==============================] - 0s 16ms/step - loss: 0.0170 - accuracy: 1.0000 - val_loss: 0.6053 - val_accuracy: 0.7000\n",
            "Epoch 138/200\n",
            "8/8 [==============================] - 0s 15ms/step - loss: 0.0062 - accuracy: 1.0000 - val_loss: 0.5751 - val_accuracy: 0.7000\n",
            "Epoch 139/200\n",
            "8/8 [==============================] - 0s 11ms/step - loss: 0.0058 - accuracy: 1.0000 - val_loss: 0.5191 - val_accuracy: 0.7000\n",
            "Epoch 140/200\n",
            "8/8 [==============================] - 0s 13ms/step - loss: 0.0220 - accuracy: 1.0000 - val_loss: 0.5120 - val_accuracy: 0.7000\n",
            "Epoch 141/200\n",
            "8/8 [==============================] - 0s 10ms/step - loss: 0.0341 - accuracy: 1.0000 - val_loss: 0.5252 - val_accuracy: 0.7000\n",
            "Epoch 142/200\n",
            "8/8 [==============================] - 0s 14ms/step - loss: 0.0219 - accuracy: 1.0000 - val_loss: 0.5186 - val_accuracy: 0.7000\n",
            "Epoch 143/200\n",
            "8/8 [==============================] - 0s 14ms/step - loss: 0.0161 - accuracy: 1.0000 - val_loss: 0.5193 - val_accuracy: 0.7000\n",
            "Epoch 144/200\n",
            "8/8 [==============================] - 0s 10ms/step - loss: 0.0340 - accuracy: 1.0000 - val_loss: 0.5386 - val_accuracy: 0.7000\n",
            "Epoch 145/200\n",
            "8/8 [==============================] - 0s 12ms/step - loss: 0.0204 - accuracy: 1.0000 - val_loss: 0.5592 - val_accuracy: 0.7000\n",
            "Epoch 146/200\n",
            "8/8 [==============================] - 0s 15ms/step - loss: 0.0640 - accuracy: 0.9730 - val_loss: 0.5829 - val_accuracy: 0.7000\n",
            "Epoch 147/200\n",
            "8/8 [==============================] - 0s 14ms/step - loss: 0.0362 - accuracy: 1.0000 - val_loss: 0.6004 - val_accuracy: 0.7000\n",
            "Epoch 148/200\n",
            "8/8 [==============================] - 0s 15ms/step - loss: 0.0012 - accuracy: 1.0000 - val_loss: 0.6254 - val_accuracy: 0.7000\n",
            "Epoch 149/200\n",
            "8/8 [==============================] - 0s 14ms/step - loss: 0.0106 - accuracy: 1.0000 - val_loss: 0.6457 - val_accuracy: 0.7000\n",
            "Epoch 150/200\n",
            "8/8 [==============================] - 0s 15ms/step - loss: 0.0237 - accuracy: 1.0000 - val_loss: 0.6683 - val_accuracy: 0.7000\n",
            "Epoch 151/200\n",
            "8/8 [==============================] - 0s 12ms/step - loss: 0.0084 - accuracy: 1.0000 - val_loss: 0.6779 - val_accuracy: 0.7000\n",
            "Epoch 152/200\n",
            "8/8 [==============================] - 0s 12ms/step - loss: 0.0033 - accuracy: 1.0000 - val_loss: 0.6823 - val_accuracy: 0.7000\n",
            "Epoch 153/200\n",
            "8/8 [==============================] - 0s 9ms/step - loss: 0.0706 - accuracy: 0.9730 - val_loss: 0.6660 - val_accuracy: 0.7000\n",
            "Epoch 154/200\n",
            "8/8 [==============================] - 0s 14ms/step - loss: 0.0299 - accuracy: 1.0000 - val_loss: 0.6330 - val_accuracy: 0.7000\n",
            "Epoch 155/200\n",
            "8/8 [==============================] - 0s 13ms/step - loss: 0.1372 - accuracy: 0.9189 - val_loss: 0.6329 - val_accuracy: 0.7000\n",
            "Epoch 156/200\n",
            "8/8 [==============================] - 0s 15ms/step - loss: 0.0403 - accuracy: 0.9730 - val_loss: 0.6544 - val_accuracy: 0.7000\n",
            "Epoch 157/200\n",
            "8/8 [==============================] - 0s 14ms/step - loss: 0.0181 - accuracy: 1.0000 - val_loss: 0.6539 - val_accuracy: 0.7000\n",
            "Epoch 158/200\n",
            "8/8 [==============================] - 0s 11ms/step - loss: 0.0043 - accuracy: 1.0000 - val_loss: 0.6496 - val_accuracy: 0.7000\n",
            "Epoch 159/200\n",
            "8/8 [==============================] - 0s 13ms/step - loss: 0.0229 - accuracy: 1.0000 - val_loss: 0.6258 - val_accuracy: 0.7000\n",
            "Epoch 160/200\n",
            "8/8 [==============================] - 0s 18ms/step - loss: 0.0112 - accuracy: 1.0000 - val_loss: 0.5902 - val_accuracy: 0.7000\n",
            "Epoch 161/200\n",
            "8/8 [==============================] - 0s 15ms/step - loss: 0.0049 - accuracy: 1.0000 - val_loss: 0.5929 - val_accuracy: 0.7000\n",
            "Epoch 162/200\n",
            "8/8 [==============================] - 0s 12ms/step - loss: 0.0024 - accuracy: 1.0000 - val_loss: 0.5939 - val_accuracy: 0.7000\n",
            "Epoch 163/200\n",
            "8/8 [==============================] - 0s 13ms/step - loss: 0.0382 - accuracy: 0.9730 - val_loss: 0.5800 - val_accuracy: 0.7000\n",
            "Epoch 164/200\n",
            "8/8 [==============================] - 0s 12ms/step - loss: 0.0401 - accuracy: 0.9730 - val_loss: 0.6086 - val_accuracy: 0.7000\n",
            "Epoch 165/200\n",
            "8/8 [==============================] - 0s 13ms/step - loss: 0.0162 - accuracy: 1.0000 - val_loss: 0.6277 - val_accuracy: 0.7000\n",
            "Epoch 166/200\n",
            "8/8 [==============================] - 0s 17ms/step - loss: 0.0144 - accuracy: 1.0000 - val_loss: 0.6444 - val_accuracy: 0.7000\n",
            "Epoch 167/200\n",
            "8/8 [==============================] - 0s 14ms/step - loss: 0.0201 - accuracy: 1.0000 - val_loss: 0.6552 - val_accuracy: 0.7000\n",
            "Epoch 168/200\n",
            "8/8 [==============================] - 0s 8ms/step - loss: 0.0455 - accuracy: 0.9730 - val_loss: 0.6645 - val_accuracy: 0.7000\n",
            "Epoch 169/200\n",
            "8/8 [==============================] - 0s 8ms/step - loss: 0.0862 - accuracy: 0.9730 - val_loss: 0.5793 - val_accuracy: 0.7000\n",
            "Epoch 170/200\n",
            "8/8 [==============================] - 0s 8ms/step - loss: 0.0129 - accuracy: 1.0000 - val_loss: 0.5579 - val_accuracy: 0.7000\n",
            "Epoch 171/200\n",
            "8/8 [==============================] - 0s 7ms/step - loss: 0.0183 - accuracy: 1.0000 - val_loss: 0.5612 - val_accuracy: 0.7000\n",
            "Epoch 172/200\n",
            "8/8 [==============================] - 0s 10ms/step - loss: 0.0166 - accuracy: 1.0000 - val_loss: 0.5481 - val_accuracy: 0.7000\n",
            "Epoch 173/200\n",
            "8/8 [==============================] - 0s 8ms/step - loss: 0.0283 - accuracy: 0.9730 - val_loss: 0.5339 - val_accuracy: 0.7000\n",
            "Epoch 174/200\n",
            "8/8 [==============================] - 0s 7ms/step - loss: 0.0084 - accuracy: 1.0000 - val_loss: 0.5589 - val_accuracy: 0.7000\n",
            "Epoch 175/200\n",
            "8/8 [==============================] - 0s 9ms/step - loss: 0.0139 - accuracy: 1.0000 - val_loss: 0.5740 - val_accuracy: 0.7000\n",
            "Epoch 176/200\n",
            "8/8 [==============================] - 0s 10ms/step - loss: 0.0073 - accuracy: 1.0000 - val_loss: 0.5797 - val_accuracy: 0.7000\n",
            "Epoch 177/200\n",
            "8/8 [==============================] - 0s 8ms/step - loss: 0.0333 - accuracy: 1.0000 - val_loss: 0.5874 - val_accuracy: 0.7000\n",
            "Epoch 178/200\n",
            "8/8 [==============================] - 0s 9ms/step - loss: 0.0239 - accuracy: 1.0000 - val_loss: 0.5525 - val_accuracy: 0.7000\n",
            "Epoch 179/200\n",
            "8/8 [==============================] - 0s 15ms/step - loss: 0.0401 - accuracy: 1.0000 - val_loss: 0.5296 - val_accuracy: 0.7000\n",
            "Epoch 180/200\n",
            "8/8 [==============================] - 0s 12ms/step - loss: 0.0145 - accuracy: 1.0000 - val_loss: 0.6255 - val_accuracy: 0.7000\n",
            "Epoch 181/200\n",
            "8/8 [==============================] - 0s 11ms/step - loss: 0.0128 - accuracy: 1.0000 - val_loss: 0.6641 - val_accuracy: 0.7000\n",
            "Epoch 182/200\n",
            "8/8 [==============================] - 0s 7ms/step - loss: 0.0863 - accuracy: 0.9459 - val_loss: 0.6882 - val_accuracy: 0.7000\n",
            "Epoch 183/200\n",
            "8/8 [==============================] - 0s 8ms/step - loss: 0.0580 - accuracy: 0.9730 - val_loss: 0.6971 - val_accuracy: 0.7000\n",
            "Epoch 184/200\n",
            "8/8 [==============================] - 0s 8ms/step - loss: 0.0599 - accuracy: 0.9730 - val_loss: 0.7155 - val_accuracy: 0.7000\n",
            "Epoch 185/200\n",
            "8/8 [==============================] - 0s 11ms/step - loss: 0.0039 - accuracy: 1.0000 - val_loss: 0.7329 - val_accuracy: 0.7000\n",
            "Epoch 186/200\n",
            "8/8 [==============================] - 0s 8ms/step - loss: 0.1589 - accuracy: 0.9459 - val_loss: 0.7358 - val_accuracy: 0.7000\n",
            "Epoch 187/200\n",
            "8/8 [==============================] - 0s 10ms/step - loss: 0.0206 - accuracy: 1.0000 - val_loss: 0.7269 - val_accuracy: 0.7000\n",
            "Epoch 188/200\n",
            "8/8 [==============================] - 0s 8ms/step - loss: 0.1856 - accuracy: 0.9189 - val_loss: 0.6567 - val_accuracy: 0.7000\n",
            "Epoch 189/200\n",
            "8/8 [==============================] - 0s 7ms/step - loss: 0.0873 - accuracy: 0.9730 - val_loss: 0.6013 - val_accuracy: 0.7000\n",
            "Epoch 190/200\n",
            "8/8 [==============================] - 0s 12ms/step - loss: 0.0564 - accuracy: 0.9730 - val_loss: 0.5888 - val_accuracy: 0.7000\n",
            "Epoch 191/200\n",
            "8/8 [==============================] - 0s 16ms/step - loss: 0.0250 - accuracy: 1.0000 - val_loss: 0.6081 - val_accuracy: 0.7000\n",
            "Epoch 192/200\n",
            "8/8 [==============================] - 0s 10ms/step - loss: 0.1147 - accuracy: 0.9730 - val_loss: 0.6202 - val_accuracy: 0.7000\n",
            "Epoch 193/200\n",
            "8/8 [==============================] - 0s 8ms/step - loss: 0.0090 - accuracy: 1.0000 - val_loss: 0.6299 - val_accuracy: 0.7000\n",
            "Epoch 194/200\n",
            "8/8 [==============================] - 0s 9ms/step - loss: 0.0222 - accuracy: 1.0000 - val_loss: 0.6420 - val_accuracy: 0.7000\n",
            "Epoch 195/200\n",
            "8/8 [==============================] - 0s 9ms/step - loss: 0.0279 - accuracy: 1.0000 - val_loss: 0.6727 - val_accuracy: 0.7000\n",
            "Epoch 196/200\n",
            "8/8 [==============================] - 0s 11ms/step - loss: 0.0115 - accuracy: 1.0000 - val_loss: 0.7036 - val_accuracy: 0.7000\n",
            "Epoch 197/200\n",
            "8/8 [==============================] - 0s 10ms/step - loss: 0.0412 - accuracy: 0.9730 - val_loss: 0.6972 - val_accuracy: 0.7000\n",
            "Epoch 198/200\n",
            "8/8 [==============================] - 0s 7ms/step - loss: 0.0499 - accuracy: 1.0000 - val_loss: 0.6898 - val_accuracy: 0.7000\n",
            "Epoch 199/200\n",
            "8/8 [==============================] - 0s 8ms/step - loss: 0.0049 - accuracy: 1.0000 - val_loss: 0.6875 - val_accuracy: 0.7000\n",
            "Epoch 200/200\n",
            "8/8 [==============================] - 0s 10ms/step - loss: 0.0842 - accuracy: 0.9730 - val_loss: 0.6938 - val_accuracy: 0.7000\n",
            "Model Created\n"
          ]
        }
      ]
    },
    {
      "cell_type": "code",
      "source": [
        "#load the trained model\n",
        "from keras.models import load_model\n",
        "model = load_model('chatbot_model.v1')\n",
        "\n",
        "#will need to unpickle resources, load json, and reimport key libraries\n",
        "#if using this section as a separate script (which is advisable)"
      ],
      "metadata": {
        "id": "nKprGsSlVw-R"
      },
      "execution_count": null,
      "outputs": []
    },
    {
      "cell_type": "markdown",
      "source": [
        "###Use this if treating the next section as a standalone script and importing the model.\n",
        "\n",
        "import nltk <br/>\n",
        "from nltk.stem import WordNetLemmatizer<br/>\n",
        "lemmatizer = WordNetLemmatizer()<br/>\n",
        "import pickle<br/>\n",
        "import numpy as np<br/>\n",
        "\n",
        "from keras.models import load_model<br/>\n",
        "model = load_model('chatbot_model.h5')<br/>\n",
        "import json<br/>\n",
        "import random<br/>\n",
        "intents = json.loads(open('intents.json').read())<br/>\n",
        "words = pickle.load(open('words.pkl','rb'))<br/>\n",
        "classes = pickle.load(open('classes.pkl','rb'))"
      ],
      "metadata": {
        "id": "OuWTwNn6Wk_F"
      }
    },
    {
      "cell_type": "code",
      "source": [
        "#create helper functions to preprocess the user's input\n",
        "def clean_up_text(text):\n",
        "  #tokenize incoming text and then lemmatize it\n",
        "  user_words = nltk.word_tokenize(text)\n",
        "  processed_words = [lemmatizer.lemmatize(word.lower()) for word in user_words]\n",
        "  return processed_words\n"
      ],
      "metadata": {
        "collapsed": true,
        "id": "Anzk3GbwSRLO"
      },
      "execution_count": null,
      "outputs": []
    },
    {
      "cell_type": "code",
      "source": [
        "def bag_of_words(sentence, words, show_details=True):\n",
        "  #NOTE: this helper function depends on the existence of the words file\n",
        "  sentence_words = clean_up_text(sentence)\n",
        "  bag = [0]*len(words)\n",
        "  for token in sentence_words:\n",
        "    for index, word in enumerate(words):\n",
        "      if word == token:\n",
        "        bag[index] = 1\n",
        "      #use show details to help debug if needed\n",
        "      if show_details:\n",
        "        print(f\"{token} found in bag.\")\n",
        "  return(np.array(bag))\n"
      ],
      "metadata": {
        "id": "zOzrmmjVU8gO"
      },
      "execution_count": null,
      "outputs": []
    },
    {
      "cell_type": "code",
      "source": [
        "def predict_class(sentence, model):\n",
        "  #call helper function\n",
        "  target = bag_of_words(sentence, words, show_details=False)\n",
        "  #ask model to predict potential classes based on user input\n",
        "  prediction = model.predict(np.array([target]))[0]\n",
        "  #set a threshold above which answers are valid\n",
        "  ERROR_THRESHOLD = 0.25\n",
        "  #test the results of the real number encodings to see which are better than the error threshold\n",
        "  results = [[index, real_num] for index, real_num in enumerate(prediction) if real_num > ERROR_THRESHOLD]\n",
        "  #use a lambda function to sort in descending order.\n",
        "  #Needed if there is more than one prediction -- returns biggest number first\n",
        "  results.sort(key=lambda x: x[1], reverse=True)\n",
        "  return_list = []\n",
        "  for result in results:\n",
        "    return_list.append({\"intent\": classes[result[0]], \"probability\": str(result[1])})\n",
        "\n",
        "  return return_list\n",
        "\n"
      ],
      "metadata": {
        "id": "SHe__a29Y9il"
      },
      "execution_count": null,
      "outputs": []
    },
    {
      "cell_type": "code",
      "source": [
        "def getResponse(predicted_tag, intents_list):\n",
        "  #this function requires an intents.json file\n",
        "  predicted = predicted_tag[0]['intent']#uses dictionary structure from predicted_class function\n",
        "  possible_intents = intents_list['intents']\n",
        "  for intent in possible_intents:\n",
        "    if intent['tag'] == predicted:\n",
        "      output = random.choice(intent['responses'])\n",
        "      break\n",
        "  return output"
      ],
      "metadata": {
        "id": "pPiWCuT7dJ3k"
      },
      "execution_count": null,
      "outputs": []
    },
    {
      "cell_type": "code",
      "source": [
        "def get_chatbot_response(text):\n",
        "  query = predict_class(text, model)\n",
        "  response = getResponse(query, intents)\n",
        "  return response"
      ],
      "metadata": {
        "id": "SGWM9UzPevLv"
      },
      "execution_count": null,
      "outputs": []
    },
    {
      "cell_type": "code",
      "source": [
        "sentence = \"Can you help me with blood pressure tracking?\"\n",
        "\n",
        "print(get_chatbot_response(sentence))"
      ],
      "metadata": {
        "colab": {
          "base_uri": "https://localhost:8080/"
        },
        "collapsed": true,
        "id": "2pv_xedbZvFT",
        "outputId": "96c030e7-e62a-4ea3-ae84-2576c341db4a"
      },
      "execution_count": null,
      "outputs": [
        {
          "output_type": "stream",
          "name": "stdout",
          "text": [
            "1/1 [==============================] - 0s 115ms/step\n",
            "Navigating to Blood Pressure module\n"
          ]
        }
      ]
    },
    {
      "cell_type": "code",
      "source": [
        "\n",
        "bot_type = \"medical help\"\n",
        "print(f'Welcome to the {bot_type} chatbot. Please let us know how we can assist you.\\n')\n",
        "print(\"Please type 'Quit' or 'Bye' to exit chat.\\n\\n\")\n",
        "user_input = ''\n",
        "exit_word_1 = 'Quit'\n",
        "exit_word_2 = \"Bye\"\n",
        "continue_session = True\n",
        "\n",
        "while continue_session:\n",
        "  user_input = input(\"type your question here. \")\n",
        "  if user_input == exit_word_1 or user_input == exit_word_1.lower() or user_input == exit_word_2 or user_input == exit_word_2.lower():\n",
        "    print(f'\\nThank you for visiting, we hope to chat with you again soon!')\n",
        "    continue_session = False\n",
        "\n",
        "  else:\n",
        "    answer = get_chatbot_response(user_input)\n",
        "    print(f'{answer}\\n')\n"
      ],
      "metadata": {
        "colab": {
          "base_uri": "https://localhost:8080/"
        },
        "collapsed": true,
        "id": "SFZkAxlQNBVv",
        "outputId": "ea6d761c-3376-4181-b399-1559f18ea3b1"
      },
      "execution_count": null,
      "outputs": [
        {
          "output_type": "stream",
          "name": "stdout",
          "text": [
            "Welcome to the medical help chatbot. Please let us know how we can assist you.\n",
            "\n",
            "Please type 'Quit' or 'Bye' to exit chat.\n",
            "\n",
            "\n",
            "type your question here. hi there!\n",
            "1/1 [==============================] - 0s 24ms/step\n",
            "Good to see you again\n",
            "\n",
            "type your question here. Can you help me?\n",
            "1/1 [==============================] - 0s 25ms/step\n",
            "I can guide you through Adverse drug reaction list, Blood pressure tracking, Hospitals and Pharmacies\n",
            "\n",
            "type your question here. can you help me with blood pressure tracking?\n",
            "1/1 [==============================] - 0s 25ms/step\n",
            "Navigating to Blood Pressure module\n",
            "\n",
            "type your question here. bye\n",
            "\n",
            "Thank you for visiting, we hope to chat with you again soon!\n"
          ]
        }
      ]
    }
  ]
}