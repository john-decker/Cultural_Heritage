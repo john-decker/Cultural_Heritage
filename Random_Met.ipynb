{
  "cells": [
    {
      "cell_type": "markdown",
      "metadata": {
        "id": "view-in-github",
        "colab_type": "text"
      },
      "source": [
        "<a href=\"https://colab.research.google.com/github/john-decker/Cultural_Heritage/blob/main/Random_Met.ipynb\" target=\"_parent\"><img src=\"https://colab.research.google.com/assets/colab-badge.svg\" alt=\"Open In Colab\"/></a>"
      ]
    },
    {
      "cell_type": "code",
      "execution_count": null,
      "metadata": {
        "colab": {
          "base_uri": "https://localhost:8080/"
        },
        "id": "PxyzNCs9s7q6",
        "outputId": "7c24327a-221e-4daa-fbaa-2a87d37edd31",
        "collapsed": true
      },
      "outputs": [
        {
          "output_type": "stream",
          "name": "stdout",
          "text": [
            "Collecting dominate\n",
            "  Downloading dominate-2.9.1-py2.py3-none-any.whl.metadata (13 kB)\n",
            "Downloading dominate-2.9.1-py2.py3-none-any.whl (29 kB)\n",
            "Installing collected packages: dominate\n",
            "Successfully installed dominate-2.9.1\n"
          ]
        }
      ],
      "source": [
        "!pip install dominate"
      ]
    },
    {
      "cell_type": "code",
      "execution_count": null,
      "metadata": {
        "collapsed": true,
        "id": "4yzvmVGYsw8U"
      },
      "outputs": [],
      "source": [
        "import requests\n",
        "import json\n",
        "import random\n",
        "import time\n",
        "from PIL import Image\n",
        "from io import BytesIO\n",
        "import dominate\n",
        "from dominate.tags import *\n",
        "from dominate.util import raw\n",
        "import os\n",
        "import webbrowser\n",
        "\n",
        "def get_random_object(id_number):\n",
        "\t'''This function retreives specific information from the Met API and returns the record.\n",
        "\tinputs: string (id number for a specific work)\n",
        "\treturns json file'''\n",
        "\n",
        "\timport json\n",
        "\n",
        "\tmet_object_ids = requests.get(\"https://collectionapi.metmuseum.org/public/collection/v1/objects\")\n",
        "\tspecific_example = requests.get(\"https://collectionapi.metmuseum.org/public/collection/v1/objects/\" + id_number)\n",
        "\tprint(\"Object\", id_number, \"search status:\", specific_example.status_code)\n",
        "\n",
        "\ttry:\n",
        "\t\tobject_details = json.loads(specific_example.text)\n",
        "\n",
        "\texcept  json.decoder.JSONDecodeError:\n",
        "\t\tprint(\"Sorry, an error occurred decoding the file. Please try again\")\n",
        "\n",
        "\treturn object_details\n",
        "\n",
        "def get_specific_info(info_file):\n",
        "\t'''This function takes in a text file from a JSON.loads operation from the Met API and reduces it to specific information.\n",
        "\tinputs: text file\n",
        "\treturns: dictionary'''\n",
        "\n",
        "\tworking_dict ={}\n",
        "\ttarget_terms = ['objectID', 'accessionYear', 'primaryImageSmall', 'objectName', 'title', 'culture', 'period', 'artistDisplayName', 'objectDate', 'medium']\n",
        "\tfor item in info_file:\n",
        "\t\tif item in target_terms:\n",
        "\t\t\tworking_dict[item] = info_file[item]\n",
        "\treturn(working_dict)\n",
        "\n"
      ]
    },
    {
      "cell_type": "code",
      "source": [
        "#open Met API and get list of object ids\n",
        "met_object_ids = requests.get(\"https://collectionapi.metmuseum.org/public/collection/v1/objects\")\n",
        "status = f\"Met API Status Code: {met_object_ids.status_code}\"\n",
        "\n",
        "\n",
        "#transform string result from Met API to list\n",
        "id_array = met_object_ids.text.split(',')\n",
        "\n",
        "#generate a random index number to select an id\n",
        "random_object_id = random.randint(0, len(id_array))\n",
        "random_object_id_string = str(id_array[random_object_id])\n",
        "\n",
        "try:\n",
        "\tretrieve_met_object = get_random_object(random_object_id_string)\n",
        "\n",
        "except  json.decoder.JSONDecodeError:\n",
        "\tjson_message = \"Sorry, an error occurred while retreiving the file. Please try again.\"\n",
        "\tprint(json_message)\n",
        "\n",
        "#parse info to get specific items for output\n",
        "new_met_item = get_specific_info(retrieve_met_object)\n",
        "\n",
        "\n",
        "information_data = {}\n",
        "\n",
        "if new_met_item['primaryImageSmall']:\n",
        "\tfor key, value in new_met_item.items():\n",
        "\t\tif value:\n",
        "\t\t\tinformation_data[key] = value\n",
        "\t\t\t# print(f'{key.capitalize()}: {str(value).capitalize()}')\n",
        "\t\t\timage_url = new_met_item['primaryImageSmall']\n",
        "\timage_url = new_met_item['primaryImageSmall']\n",
        "\t#from https://stackoverflow.com/questions/7391945/how-do-i-read-image-data-from-a-url-in-python\n",
        "\timage_file = requests.get(image_url)\n",
        "\timg = Image.open(BytesIO(image_file.content))\n",
        "\t# img.show()\n",
        "\twidth, height = img.size\n",
        "\n",
        "else:\n",
        "\tfor key, value in new_met_item.items():\n",
        "\t\tif value:\n",
        "\t\t\tinformation_data[key] = value\n",
        "\t\t\t# print(f'{key.capitalize()}: {str(value).capitalize()}')\n",
        "\n",
        "\tnew_met_item['primaryImageSmall'] = 'https://upload.wikimedia.org/wikipedia/commons/thumb/3/30/Metropolitan_Museum_of_Art_%28The_Met%29_-_Central_Park%2C_NYC.jpg/512px-Metropolitan_Museum_of_Art_%28The_Met%29_-_Central_Park%2C_NYC.jpg'\n",
        "\timage_url = new_met_item['primaryImageSmall']\n",
        "\twidth, height = '512', '512'"
      ],
      "metadata": {
        "colab": {
          "base_uri": "https://localhost:8080/"
        },
        "id": "JrPUTtaxkU8i",
        "outputId": "794ce919-8aa3-4ef2-ce35-fcc244ea8911"
      },
      "execution_count": null,
      "outputs": [
        {
          "output_type": "stream",
          "name": "stdout",
          "text": [
            "Object 193947 search status: 200\n"
          ]
        }
      ]
    },
    {
      "cell_type": "code",
      "source": [
        "#create dom  using bootstrap\n",
        "embed_page = f'<iframe src={image_url} name=\"iframe_a\", width={width}, height={height}></iframe>'\n",
        "\n",
        "doc = dominate.document(title=\"Random Met Object\")\n",
        "\n",
        "with doc.head:\n",
        "    link(rel='stylesheet', href=\"https://cdn.jsdelivr.net/npm/bootstrap@5.0.2/dist/css/bootstrap.min.css\", integrity=\"sha384-EVSTQN3/azprG1Anm3QDgpJLIm9Nao0Yz1ztcQTwFspd3yD65VohhpuuCOmLASjC\", crossorigin=\"anonymous\")\n",
        "\n",
        "with doc:\n",
        "\twith div(cls=\"container-fluid\", id=\"main-container\"):\n",
        "\t\twith div(cls=\"position-absolute top-50 start-50 translate-middle\", style=\"width: 50vw\"):\n",
        "\t\t\twith div(cls=\"position-absolute top-50 start-50 translate-middle\"):\n",
        "\t\t\t\th2('Metropolitan Museum of Art')\n",
        "\t\t\t\tp('Random Object Generator')\n",
        "\t\t\t\twith div (cls=\"col p-2\", id='image-embed'):\n",
        "\t\t\t\t\tp(raw(embed_page))\n",
        "\t\t\t\t\tif new_met_item['primaryImageSmall'] == 'https://upload.wikimedia.org/wikipedia/commons/thumb/3/30/Metropolitan_Museum_of_Art_%28The_Met%29_-_Central_Park%2C_NYC.jpg/512px-Metropolitan_Museum_of_Art_%28The_Met%29_-_Central_Park%2C_NYC.jpg':\n",
        "\t\t\t\t\t\tfigcaption('Sorry, no image URL available for this object.')\n",
        "\t\t\t\twith div (cls=\"col p-3 bg-secondary text-white\", id='image-info').add(ul(style=\"list-style-type: none\")):\n",
        "\t\t\t\t\tfor key, value in information_data.items():\n",
        "\t\t\t\t\t\tli(f'{key.capitalize()}: {value}')\n",
        "\n",
        "print(doc)\n",
        "\n",
        "\n",
        "\n",
        "with open('index.html', 'w') as outfile: #naming it index will allow the next step to automatically ouput to colab\n",
        "    outfile.write(doc.render())\n",
        "\n"
      ],
      "metadata": {
        "colab": {
          "base_uri": "https://localhost:8080/"
        },
        "id": "_8HsGwgpkN5Q",
        "outputId": "a77090e3-1dd0-4acf-d1b7-8b479d57975c"
      },
      "execution_count": null,
      "outputs": [
        {
          "output_type": "stream",
          "name": "stdout",
          "text": [
            "<!DOCTYPE html>\n",
            "<html>\n",
            "  <head>\n",
            "    <title>Random Met Object</title>\n",
            "    <link crossorigin=\"anonymous\" href=\"https://cdn.jsdelivr.net/npm/bootstrap@5.0.2/dist/css/bootstrap.min.css\" integrity=\"sha384-EVSTQN3/azprG1Anm3QDgpJLIm9Nao0Yz1ztcQTwFspd3yD65VohhpuuCOmLASjC\" rel=\"stylesheet\">\n",
            "  </head>\n",
            "  <body>\n",
            "    <div class=\"container-fluid\" id=\"main-container\">\n",
            "      <div class=\"position-absolute top-50 start-50 translate-middle\" style=\"width: 50vw\">\n",
            "        <div class=\"position-absolute top-50 start-50 translate-middle\">\n",
            "          <h2>Metropolitan Museum of Art</h2>\n",
            "          <p>Random Object Generator</p>\n",
            "          <div class=\"col p-2\" id=\"image-embed\">\n",
            "            <p><iframe src=https://images.metmuseum.org/CRDImages/es/web-large/39023.jpg name=\"iframe_a\", width=443, height=625></iframe></p>\n",
            "          </div>\n",
            "          <div class=\"col p-3 bg-secondary text-white\" id=\"image-info\">\n",
            "            <ul style=\"list-style-type: none\">\n",
            "              <li>Objectid: 193947</li>\n",
            "              <li>Accessionyear: 1917</li>\n",
            "              <li>Primaryimagesmall: https://images.metmuseum.org/CRDImages/es/web-large/39023.jpg</li>\n",
            "              <li>Objectname: Souvenir</li>\n",
            "              <li>Title: Souvenir</li>\n",
            "              <li>Objectdate: late 18th century (?)</li>\n",
            "              <li>Medium: Gold, enamel; ivory</li>\n",
            "            </ul>\n",
            "          </div>\n",
            "        </div>\n",
            "      </div>\n",
            "    </div>\n",
            "  </body>\n",
            "</html>\n"
          ]
        }
      ]
    },
    {
      "cell_type": "code",
      "source": [
        "#display to colab from: https://stackoverflow.com/questions/59741453/is-there-a-general-way-to-run-web-applications-on-google-colab\n",
        "import IPython\n",
        "from IPython.core.magic import register_line_magic\n",
        "import subprocess\n",
        "\n",
        "@register_line_magic\n",
        "def run_local_server(line):\n",
        "    handle = IPython.display.display(\n",
        "            IPython.display.Pretty(\"Launching my server...\"),\n",
        "            display_id=True,\n",
        "    )\n",
        "    subprocess.Popen(['python', '-m', 'http.server'])\n",
        "    shell = \"\"\"\n",
        "        (async () => {\n",
        "            const url = new URL(await google.colab.kernel.proxyPort(8000, {'cache': true}));\n",
        "            const iframe = document.createElement('iframe');\n",
        "            iframe.src = url;\n",
        "            iframe.setAttribute('width', '100%');\n",
        "            iframe.setAttribute('height', '1200');\n",
        "            iframe.setAttribute('frameborder', 0);\n",
        "            document.body.appendChild(iframe);\n",
        "        })();\n",
        "    \"\"\"\n",
        "    script = IPython.display.Javascript(shell)\n",
        "    handle.update(script)"
      ],
      "metadata": {
        "id": "lWcmcO274HbK"
      },
      "execution_count": null,
      "outputs": []
    },
    {
      "cell_type": "code",
      "source": [
        "#use \"line magic notation to run server and output\"\n",
        "%run_local_server"
      ],
      "metadata": {
        "colab": {
          "resources": {
            "https://localhost:8000/": {
              "data": "PCFET0NUWVBFIGh0bWw+CjxodG1sPgogIDxoZWFkPgogICAgPHRpdGxlPlJhbmRvbSBNZXQgT2JqZWN0PC90aXRsZT4KICAgIDxsaW5rIGNyb3Nzb3JpZ2luPSJhbm9ueW1vdXMiIGhyZWY9Imh0dHBzOi8vY2RuLmpzZGVsaXZyLm5ldC9ucG0vYm9vdHN0cmFwQDUuMC4yL2Rpc3QvY3NzL2Jvb3RzdHJhcC5taW4uY3NzIiBpbnRlZ3JpdHk9InNoYTM4NC1FVlNUUU4zL2F6cHJHMUFubTNRRGdwSkxJbTlOYW8wWXoxenRjUVR3RnNwZDN5RDY1Vm9oaHB1dUNPbUxBU2pDIiByZWw9InN0eWxlc2hlZXQiPgogIDwvaGVhZD4KICA8Ym9keT4KICAgIDxkaXYgY2xhc3M9ImNvbnRhaW5lci1mbHVpZCIgaWQ9Im1haW4tY29udGFpbmVyIj4KICAgICAgPGRpdiBjbGFzcz0icG9zaXRpb24tYWJzb2x1dGUgdG9wLTUwIHN0YXJ0LTUwIHRyYW5zbGF0ZS1taWRkbGUiIHN0eWxlPSJ3aWR0aDogNTB2dyI+CiAgICAgICAgPGRpdiBjbGFzcz0icG9zaXRpb24tYWJzb2x1dGUgdG9wLTUwIHN0YXJ0LTUwIHRyYW5zbGF0ZS1taWRkbGUiPgogICAgICAgICAgPGgyPk1ldHJvcG9saXRhbiBNdXNldW0gb2YgQXJ0PC9oMj4KICAgICAgICAgIDxwPlJhbmRvbSBPYmplY3QgR2VuZXJhdG9yPC9wPgogICAgICAgICAgPGRpdiBjbGFzcz0iY29sIHAtMiIgaWQ9ImltYWdlLWVtYmVkIj4KICAgICAgICAgICAgPHA+PGlmcmFtZSBzcmM9aHR0cHM6Ly9pbWFnZXMubWV0bXVzZXVtLm9yZy9DUkRJbWFnZXMvZXMvd2ViLWxhcmdlLzM5MDIzLmpwZyBuYW1lPSJpZnJhbWVfYSIsIHdpZHRoPTQ0MywgaGVpZ2h0PTYyNT48L2lmcmFtZT48L3A+CiAgICAgICAgICA8L2Rpdj4KICAgICAgICAgIDxkaXYgY2xhc3M9ImNvbCBwLTMgYmctc2Vjb25kYXJ5IHRleHQtd2hpdGUiIGlkPSJpbWFnZS1pbmZvIj4KICAgICAgICAgICAgPHVsIHN0eWxlPSJsaXN0LXN0eWxlLXR5cGU6IG5vbmUiPgogICAgICAgICAgICAgIDxsaT5PYmplY3RpZDogMTkzOTQ3PC9saT4KICAgICAgICAgICAgICA8bGk+QWNjZXNzaW9ueWVhcjogMTkxNzwvbGk+CiAgICAgICAgICAgICAgPGxpPlByaW1hcnlpbWFnZXNtYWxsOiBodHRwczovL2ltYWdlcy5tZXRtdXNldW0ub3JnL0NSREltYWdlcy9lcy93ZWItbGFyZ2UvMzkwMjMuanBnPC9saT4KICAgICAgICAgICAgICA8bGk+T2JqZWN0bmFtZTogU291dmVuaXI8L2xpPgogICAgICAgICAgICAgIDxsaT5UaXRsZTogU291dmVuaXI8L2xpPgogICAgICAgICAgICAgIDxsaT5PYmplY3RkYXRlOiBsYXRlIDE4dGggY2VudHVyeSAoPyk8L2xpPgogICAgICAgICAgICAgIDxsaT5NZWRpdW06IEdvbGQsIGVuYW1lbDsgaXZvcnk8L2xpPgogICAgICAgICAgICA8L3VsPgogICAgICAgICAgPC9kaXY+CiAgICAgICAgPC9kaXY+CiAgICAgIDwvZGl2PgogICAgPC9kaXY+CiAgPC9ib2R5Pgo8L2h0bWw+",
              "ok": true,
              "headers": [
                [
                  "content-type",
                  "text/html"
                ]
              ],
              "status": 200,
              "status_text": ""
            }
          },
          "base_uri": "https://localhost:8080/",
          "height": 1000
        },
        "collapsed": true,
        "id": "dDbGaJtt49Tc",
        "outputId": "8a717da5-67b1-4cf3-e022-ff481db2fddd"
      },
      "execution_count": null,
      "outputs": [
        {
          "output_type": "display_data",
          "data": {
            "text/plain": [
              "<IPython.core.display.Javascript object>"
            ],
            "application/javascript": [
              "\n",
              "        (async () => {\n",
              "            const url = new URL(await google.colab.kernel.proxyPort(8000, {'cache': true}));\n",
              "            const iframe = document.createElement('iframe');\n",
              "            iframe.src = url;\n",
              "            iframe.setAttribute('width', '100%');\n",
              "            iframe.setAttribute('height', '1200');\n",
              "            iframe.setAttribute('frameborder', 0);\n",
              "            document.body.appendChild(iframe);\n",
              "        })();\n",
              "    "
            ]
          },
          "metadata": {}
        }
      ]
    }
  ],
  "metadata": {
    "colab": {
      "provenance": [],
      "authorship_tag": "ABX9TyO1VyVKb62esB90tegV1vx1",
      "include_colab_link": true
    },
    "kernelspec": {
      "display_name": "Python 3",
      "name": "python3"
    },
    "language_info": {
      "name": "python"
    }
  },
  "nbformat": 4,
  "nbformat_minor": 0
}